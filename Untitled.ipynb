{
 "cells": [
  {
   "cell_type": "markdown",
   "id": "b6bd53f6-fe81-46f9-a4aa-6b6a4ab29db2",
   "metadata": {},
   "source": [
    "# Loading the Book"
   ]
  },
  {
   "cell_type": "code",
   "execution_count": 2,
   "id": "afc955c4-c8e6-4233-b0ec-271621819e58",
   "metadata": {},
   "outputs": [],
   "source": [
    "with open('miracle_in_the_andes.txt', \"r\", encoding=\"utf-8\") as file:\n",
    "    book = file.read()"
   ]
  },
  {
   "cell_type": "markdown",
   "id": "09f1bfb8-5954-40dc-a3ba-edf2697971a0",
   "metadata": {},
   "source": [
    "# The most used words(non-articles)"
   ]
  },
  {
   "cell_type": "code",
   "execution_count": 4,
   "id": "12adcb13-f627-41dc-8576-fe77844602bc",
   "metadata": {},
   "outputs": [
    {
     "data": {
      "text/plain": [
       "['chapter', 'before', 'it', 'was', 'friday']"
      ]
     },
     "execution_count": 4,
     "metadata": {},
     "output_type": "execute_result"
    }
   ],
   "source": [
    "import re\n",
    "pattern = re.compile(\"[a-zA-Z]+\")\n",
    "findings = re.findall(pattern, book.lower())\n",
    "findings[:5]"
   ]
  },
  {
   "cell_type": "code",
   "execution_count": 5,
   "id": "df8c4835-7e19-48ee-bd52-398ed22dc99d",
   "metadata": {},
   "outputs": [],
   "source": [
    "d = {}\n",
    "for word in findings:\n",
    "    if word in d.keys():\n",
    "        d[word] = d[word] + 1\n",
    "    else:\n",
    "        d[word] = 1"
   ]
  },
  {
   "cell_type": "code",
   "execution_count": 7,
   "id": "83aca277-4f60-487b-9f29-3c3a0f9f6d44",
   "metadata": {},
   "outputs": [
    {
     "data": {
      "text/plain": [
       "[(5346, 'the'), (2795, 'and'), (2729, 'i'), (2400, 'to'), (2060, 'of')]"
      ]
     },
     "execution_count": 7,
     "metadata": {},
     "output_type": "execute_result"
    }
   ],
   "source": [
    "d_list = [(value, key) for (key, value) in d.items()]\n",
    "d_list = sorted(d_list, reverse=True)\n",
    "d_list[:5]"
   ]
  },
  {
   "cell_type": "code",
   "execution_count": 14,
   "id": "d5202308-8a7e-4a40-b569-4b43e1ff10a0",
   "metadata": {},
   "outputs": [
    {
     "name": "stdout",
     "output_type": "stream",
     "text": [
      "Defaulting to user installation because normal site-packages is not writeable\n",
      "Collecting nltk\n",
      "  Downloading nltk-3.8.1-py3-none-any.whl.metadata (2.8 kB)\n",
      "Requirement already satisfied: click in c:\\users\\asus\\appdata\\roaming\\python\\python312\\site-packages (from nltk) (8.1.7)\n",
      "Collecting joblib (from nltk)\n",
      "  Downloading joblib-1.4.2-py3-none-any.whl.metadata (5.4 kB)\n",
      "Collecting regex>=2021.8.3 (from nltk)\n",
      "  Downloading regex-2024.5.10-cp312-cp312-win_amd64.whl.metadata (41 kB)\n",
      "     ---------------------------------------- 0.0/42.0 kB ? eta -:--:--\n",
      "     --------- ------------------------------ 10.2/42.0 kB ? eta -:--:--\n",
      "     -------------------------------------  41.0/42.0 kB 487.6 kB/s eta 0:00:01\n",
      "     -------------------------------------- 42.0/42.0 kB 406.8 kB/s eta 0:00:00\n",
      "Requirement already satisfied: tqdm in c:\\users\\asus\\appdata\\roaming\\python\\python312\\site-packages (from nltk) (4.66.2)\n",
      "Requirement already satisfied: colorama in c:\\users\\asus\\appdata\\roaming\\python\\python312\\site-packages (from click->nltk) (0.4.6)\n",
      "Downloading nltk-3.8.1-py3-none-any.whl (1.5 MB)\n",
      "   ---------------------------------------- 0.0/1.5 MB ? eta -:--:--\n",
      "   - -------------------------------------- 0.1/1.5 MB 1.1 MB/s eta 0:00:02\n",
      "   ------ --------------------------------- 0.2/1.5 MB 2.5 MB/s eta 0:00:01\n",
      "   ------------- -------------------------- 0.5/1.5 MB 3.5 MB/s eta 0:00:01\n",
      "   ------------------------- -------------- 1.0/1.5 MB 5.1 MB/s eta 0:00:01\n",
      "   ---------------------------- ----------- 1.1/1.5 MB 4.9 MB/s eta 0:00:01\n",
      "   ------------------------------ --------- 1.2/1.5 MB 4.3 MB/s eta 0:00:01\n",
      "   ------------------------------ --------- 1.2/1.5 MB 4.3 MB/s eta 0:00:01\n",
      "   ---------------------------------------- 1.5/1.5 MB 4.2 MB/s eta 0:00:00\n",
      "Downloading regex-2024.5.10-cp312-cp312-win_amd64.whl (268 kB)\n",
      "   ---------------------------------------- 0.0/268.5 kB ? eta -:--:--\n",
      "   ------------------------- -------------- 174.1/268.5 kB 5.1 MB/s eta 0:00:01\n",
      "   ---------------------------------------- 268.5/268.5 kB 5.5 MB/s eta 0:00:00\n",
      "Downloading joblib-1.4.2-py3-none-any.whl (301 kB)\n",
      "   ---------------------------------------- 0.0/301.8 kB ? eta -:--:--\n",
      "   ---------------------------------------- 301.8/301.8 kB 6.2 MB/s eta 0:00:00\n",
      "Installing collected packages: regex, joblib, nltk\n",
      "Successfully installed joblib-1.4.2 nltk-3.8.1 regex-2024.5.10\n"
     ]
    }
   ],
   "source": [
    "!pip3.12 install nltk"
   ]
  },
  {
   "cell_type": "code",
   "execution_count": 17,
   "id": "41cc1eba-bedc-43bd-8525-2f10991664e8",
   "metadata": {},
   "outputs": [
    {
     "name": "stderr",
     "output_type": "stream",
     "text": [
      "[nltk_data] Downloading package stopwords to\n",
      "[nltk_data]     C:\\Users\\Asus\\AppData\\Roaming\\nltk_data...\n",
      "[nltk_data]   Unzipping corpora\\stopwords.zip.\n"
     ]
    },
    {
     "data": {
      "text/plain": [
       "True"
      ]
     },
     "execution_count": 17,
     "metadata": {},
     "output_type": "execute_result"
    }
   ],
   "source": [
    "import nltk\n",
    "nltk.download('stopwords')"
   ]
  },
  {
   "cell_type": "code",
   "execution_count": 18,
   "id": "70030fd9-b148-442d-9624-3524f8135c20",
   "metadata": {},
   "outputs": [],
   "source": [
    "from nltk.corpus import stopwords\n",
    "english_stopwords = stopwords.words(\"english\")"
   ]
  },
  {
   "cell_type": "code",
   "execution_count": 22,
   "id": "8c09c803-7ce2-413a-b78c-5222cea04c25",
   "metadata": {},
   "outputs": [],
   "source": [
    "filtered_words = []\n",
    "for count, word in d_list:\n",
    "    if word not in english_stopwords:\n",
    "        filtered_words.append((word, count))"
   ]
  },
  {
   "cell_type": "code",
   "execution_count": 24,
   "id": "2c6e8f93-51ac-468c-84db-bb9c879ecaea",
   "metadata": {},
   "outputs": [
    {
     "data": {
      "text/plain": [
       "[('would', 575),\n",
       " ('us', 519),\n",
       " ('said', 292),\n",
       " ('roberto', 284),\n",
       " ('could', 252),\n",
       " ('one', 249),\n",
       " ('snow', 227),\n",
       " ('mountain', 183),\n",
       " ('time', 182),\n",
       " ('like', 165)]"
      ]
     },
     "execution_count": 24,
     "metadata": {},
     "output_type": "execute_result"
    }
   ],
   "source": [
    "filtered_words[:10]"
   ]
  },
  {
   "cell_type": "markdown",
   "id": "52b16596-4e39-4c14-9013-b353e141e55e",
   "metadata": {},
   "source": [
    "# Sentiment Analysis: What is the most positive and the most negative chapter?"
   ]
  },
  {
   "cell_type": "code",
   "execution_count": 28,
   "id": "22eb57ed-d092-4944-b7db-3facdbe653d9",
   "metadata": {},
   "outputs": [],
   "source": [
    "from nltk.sentiment.vader import SentimentIntensityAnalyzer"
   ]
  },
  {
   "cell_type": "code",
   "execution_count": 30,
   "id": "b18aac25-e281-4f34-a144-770bbcca3807",
   "metadata": {},
   "outputs": [
    {
     "name": "stderr",
     "output_type": "stream",
     "text": [
      "[nltk_data] Downloading package vader_lexicon to\n",
      "[nltk_data]     C:\\Users\\Asus\\AppData\\Roaming\\nltk_data...\n"
     ]
    },
    {
     "data": {
      "text/plain": [
       "True"
      ]
     },
     "execution_count": 30,
     "metadata": {},
     "output_type": "execute_result"
    }
   ],
   "source": [
    "nltk.download('vader_lexicon')"
   ]
  },
  {
   "cell_type": "code",
   "execution_count": 31,
   "id": "7c3cabc2-a597-434d-b007-bf9257df613d",
   "metadata": {},
   "outputs": [],
   "source": [
    "analyzer = SentimentIntensityAnalyzer()"
   ]
  },
  {
   "cell_type": "code",
   "execution_count": 33,
   "id": "67ed63a8-ad96-42a1-b234-9e24c7818dfe",
   "metadata": {},
   "outputs": [
    {
     "data": {
      "text/plain": [
       "{'neg': 0.116, 'neu': 0.76, 'pos': 0.125, 'compound': 1.0}"
      ]
     },
     "execution_count": 33,
     "metadata": {},
     "output_type": "execute_result"
    }
   ],
   "source": [
    "analyzer.polarity_scores(book)"
   ]
  },
  {
   "cell_type": "markdown",
   "id": "7292ac30-f990-4b61-aa54-51775e02c0ba",
   "metadata": {},
   "source": [
    "### Chapters Sentiment Analysis"
   ]
  },
  {
   "cell_type": "code",
   "execution_count": 35,
   "id": "07d77cf3-a639-4e51-9d4d-d0d8604f5420",
   "metadata": {},
   "outputs": [],
   "source": [
    "import re\n",
    "pattern = re.compile(\"Chapter [0-9]+\")\n",
    "chapters = re.split(pattern, book)\n"
   ]
  },
  {
   "cell_type": "code",
   "execution_count": 36,
   "id": "cc820753-2d92-4ff1-afd1-7844e7156bd3",
   "metadata": {},
   "outputs": [],
   "source": [
    "chapters = chapters[1:]"
   ]
  },
  {
   "cell_type": "code",
   "execution_count": 41,
   "id": "9aaded4a-edd2-4c17-abb2-85f4eb103d97",
   "metadata": {},
   "outputs": [
    {
     "name": "stdout",
     "output_type": "stream",
     "text": [
      "1 {'neg': 0.061, 'neu': 0.779, 'pos': 0.16, 'compound': 1.0}\n",
      "2 {'neg': 0.12, 'neu': 0.726, 'pos': 0.154, 'compound': 0.9991}\n",
      "3 {'neg': 0.145, 'neu': 0.751, 'pos': 0.105, 'compound': -0.9999}\n",
      "4 {'neg': 0.141, 'neu': 0.721, 'pos': 0.138, 'compound': -0.9963}\n",
      "5 {'neg': 0.118, 'neu': 0.742, 'pos': 0.141, 'compound': 0.9997}\n",
      "6 {'neg': 0.124, 'neu': 0.761, 'pos': 0.115, 'compound': -0.9979}\n",
      "7 {'neg': 0.136, 'neu': 0.761, 'pos': 0.103, 'compound': -0.9999}\n",
      "8 {'neg': 0.12, 'neu': 0.786, 'pos': 0.094, 'compound': -0.9998}\n",
      "9 {'neg': 0.097, 'neu': 0.824, 'pos': 0.079, 'compound': -0.9996}\n",
      "10 {'neg': 0.086, 'neu': 0.733, 'pos': 0.181, 'compound': 1.0}\n"
     ]
    }
   ],
   "source": [
    "for nr, chapter in enumerate(chapters):\n",
    "    scores = analyzer.polarity_scores(chapter)\n",
    "    print(nr+1, scores)"
   ]
  },
  {
   "cell_type": "code",
   "execution_count": null,
   "id": "0587b7da-4824-4ce0-aae4-0144ecde929b",
   "metadata": {},
   "outputs": [],
   "source": []
  }
 ],
 "metadata": {
  "kernelspec": {
   "display_name": "Python 3 (ipykernel)",
   "language": "python",
   "name": "python3"
  },
  "language_info": {
   "codemirror_mode": {
    "name": "ipython",
    "version": 3
   },
   "file_extension": ".py",
   "mimetype": "text/x-python",
   "name": "python",
   "nbconvert_exporter": "python",
   "pygments_lexer": "ipython3",
   "version": "3.12.2"
  }
 },
 "nbformat": 4,
 "nbformat_minor": 5
}
